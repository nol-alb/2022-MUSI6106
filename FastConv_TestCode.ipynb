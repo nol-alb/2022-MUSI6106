{
 "cells": [
  {
   "cell_type": "code",
   "execution_count": 1,
   "id": "c73c45f8",
   "metadata": {},
   "outputs": [],
   "source": [
    "import numpy as np\n",
    "import scipy"
   ]
  },
  {
   "cell_type": "code",
   "execution_count": 232,
   "id": "992fea16",
   "metadata": {},
   "outputs": [],
   "source": [
    "def convolution(x,h,blocksize):\n",
    "    l = np.zeros(len(h))\n",
    "    y =[]\n",
    "    for i in range(len(x)):\n",
    "        l[0] = x[i] \n",
    "        acc =0\n",
    "        m = 0\n",
    "        for j in range(0,len(h)):\n",
    "            acc += h[j]*l[j]\n",
    "            print(h[j],l[j])\n",
    "            m = m+1\n",
    "        y.append(acc)\n",
    "        l = np.roll(l,1)\n",
    "    return y,l\n",
    "    \n",
    "    \n",
    "        \n",
    "    "
   ]
  },
  {
   "cell_type": "code",
   "execution_count": 276,
   "id": "471376ce",
   "metadata": {},
   "outputs": [],
   "source": [
    "def tail(l,h):\n",
    "    tail = []\n",
    "    for k in range(len(h)-1):\n",
    "        l[0] = 0\n",
    "        acc =0\n",
    "        for j in range(len(h)):\n",
    "            print(j)\n",
    "            print(h[j],l[j])\n",
    "            acc += h[j]*l[j]\n",
    "        tail.append(acc)\n",
    "        l = np.roll(l,1)\n",
    "    return tail\n",
    "        \n",
    "    \n",
    "    \n",
    "    "
   ]
  },
  {
   "cell_type": "code",
   "execution_count": 288,
   "id": "79bf3f47",
   "metadata": {},
   "outputs": [
    {
     "name": "stdout",
     "output_type": "stream",
     "text": [
      "1 1.0\n",
      "2 0.0\n",
      "0 0.0\n",
      "-3 0.0\n",
      "1 1.0\n",
      "2 1.0\n",
      "0 0.0\n",
      "-3 0.0\n",
      "1 1.0\n",
      "2 1.0\n",
      "0 1.0\n",
      "-3 0.0\n"
     ]
    }
   ],
   "source": [
    "y,l = convolution([1,1,1],[1,2,0,-3],2)"
   ]
  },
  {
   "cell_type": "code",
   "execution_count": 289,
   "id": "fb7cb0a5",
   "metadata": {},
   "outputs": [
    {
     "data": {
      "text/plain": [
       "[1.0, 3.0, 3.0]"
      ]
     },
     "execution_count": 289,
     "metadata": {},
     "output_type": "execute_result"
    }
   ],
   "source": [
    "y"
   ]
  },
  {
   "cell_type": "code",
   "execution_count": 290,
   "id": "bcfdc5e3",
   "metadata": {},
   "outputs": [
    {
     "data": {
      "text/plain": [
       "array([0., 1., 1., 1.])"
      ]
     },
     "execution_count": 290,
     "metadata": {},
     "output_type": "execute_result"
    }
   ],
   "source": [
    "l\n"
   ]
  },
  {
   "cell_type": "code",
   "execution_count": 291,
   "id": "f56d022e",
   "metadata": {},
   "outputs": [
    {
     "name": "stdout",
     "output_type": "stream",
     "text": [
      "0\n",
      "1 0.0\n",
      "1\n",
      "2 1.0\n",
      "2\n",
      "0 1.0\n",
      "3\n",
      "-3 1.0\n",
      "0\n",
      "1 0.0\n",
      "1\n",
      "2 0.0\n",
      "2\n",
      "0 1.0\n",
      "3\n",
      "-3 1.0\n",
      "0\n",
      "1 0.0\n",
      "1\n",
      "2 0.0\n",
      "2\n",
      "0 0.0\n",
      "3\n",
      "-3 1.0\n"
     ]
    }
   ],
   "source": [
    "tail2 = tail(l,[1,2,0,-3])"
   ]
  },
  {
   "cell_type": "code",
   "execution_count": 292,
   "id": "2140686f",
   "metadata": {},
   "outputs": [
    {
     "data": {
      "text/plain": [
       "[-1.0, -3.0, -3.0]"
      ]
     },
     "execution_count": 292,
     "metadata": {},
     "output_type": "execute_result"
    }
   ],
   "source": [
    "tail2"
   ]
  },
  {
   "cell_type": "code",
   "execution_count": null,
   "id": "cbb47e0d",
   "metadata": {},
   "outputs": [],
   "source": []
  }
 ],
 "metadata": {
  "kernelspec": {
   "display_name": "Python 3 (ipykernel)",
   "language": "python",
   "name": "python3"
  },
  "language_info": {
   "codemirror_mode": {
    "name": "ipython",
    "version": 3
   },
   "file_extension": ".py",
   "mimetype": "text/x-python",
   "name": "python",
   "nbconvert_exporter": "python",
   "pygments_lexer": "ipython3",
   "version": "3.9.7"
  }
 },
 "nbformat": 4,
 "nbformat_minor": 5
}
