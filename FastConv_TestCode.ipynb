{
 "cells": [
  {
   "cell_type": "code",
   "execution_count": 1,
   "id": "ad39936e",
   "metadata": {},
   "outputs": [],
   "source": [
    "import numpy as np\n",
    "import scipy"
   ]
  },
  {
   "cell_type": "code",
   "execution_count": 232,
   "id": "d1db295c",
   "metadata": {},
   "outputs": [],
   "source": [
    "def convolution(x,h,blocksize):\n",
    "    l = np.zeros(len(h))\n",
    "    y =[]\n",
    "    for i in range(len(x)):\n",
    "        l[0] = x[i] \n",
    "        acc =0\n",
    "        m = 0\n",
    "        for j in range(0,len(h)):\n",
    "            acc += h[j]*l[j]\n",
    "            print(h[j],l[j])\n",
    "            m = m+1\n",
    "        y.append(acc)\n",
    "        l = np.roll(l,1)\n",
    "    return y,l\n",
    "    \n",
    "    \n",
    "        \n",
    "    "
   ]
  },
  {
   "cell_type": "code",
   "execution_count": 309,
   "id": "73e2a4c5",
   "metadata": {},
   "outputs": [],
   "source": [
    "def tail(l,h):\n",
    "    tail = []\n",
    "    for k in range(len(h)-1):\n",
    "        l[0] = 0\n",
    "        acc =0\n",
    "        for j in range(len(h)):\n",
    "            print(j)\n",
    "            print(h[j],l[j])\n",
    "            acc += h[j]*l[j]\n",
    "        tail.append(acc)\n",
    "        l = np.roll(l,1)\n",
    "    return tail\n",
    "        \n",
    "    \n",
    "    \n",
    "    "
   ]
  },
  {
   "cell_type": "code",
   "execution_count": 308,
   "id": "874b07ec",
   "metadata": {},
   "outputs": [
    {
     "ename": "SyntaxError",
     "evalue": "unmatched ']' (1890416573.py, line 1)",
     "output_type": "error",
     "traceback": [
      "\u001b[0;36m  File \u001b[0;32m\"/var/folders/td/wr0v_l5j16bgp1cvydp7pmqc0000gn/T/ipykernel_90105/1890416573.py\"\u001b[0;36m, line \u001b[0;32m1\u001b[0m\n\u001b[0;31m    ]\u001b[0m\n\u001b[0m    ^\u001b[0m\n\u001b[0;31mSyntaxError\u001b[0m\u001b[0;31m:\u001b[0m unmatched ']'\n"
     ]
    }
   ],
   "source": [
    "]"
   ]
  },
  {
   "cell_type": "code",
   "execution_count": 313,
   "id": "c180ff24",
   "metadata": {},
   "outputs": [
    {
     "name": "stdout",
     "output_type": "stream",
     "text": [
      "0 1.0\n",
      "0 0.0\n",
      "1 0.0\n",
      "0 0.0\n",
      "0 2.0\n",
      "0 1.0\n",
      "1 0.0\n",
      "0 0.0\n",
      "0 3.0\n",
      "0 2.0\n",
      "1 1.0\n",
      "0 0.0\n",
      "0 4.0\n",
      "0 3.0\n",
      "1 2.0\n",
      "0 1.0\n",
      "0 5.0\n",
      "0 4.0\n",
      "1 3.0\n",
      "0 2.0\n",
      "0 6.0\n",
      "0 5.0\n",
      "1 4.0\n",
      "0 3.0\n",
      "0 7.0\n",
      "0 6.0\n",
      "1 5.0\n",
      "0 4.0\n"
     ]
    }
   ],
   "source": [
    "y,l = convolution([1,2,3,4,5,6,7],[0,0,1,0],2)"
   ]
  },
  {
   "cell_type": "code",
   "execution_count": 314,
   "id": "7544158d",
   "metadata": {},
   "outputs": [
    {
     "data": {
      "text/plain": [
       "[0.0, 0.0, 1.0, 2.0, 3.0, 4.0, 5.0]"
      ]
     },
     "execution_count": 314,
     "metadata": {},
     "output_type": "execute_result"
    }
   ],
   "source": [
    "y"
   ]
  },
  {
   "cell_type": "code",
   "execution_count": 315,
   "id": "7ded4fbf",
   "metadata": {},
   "outputs": [
    {
     "data": {
      "text/plain": [
       "array([4., 7., 6., 5.])"
      ]
     },
     "execution_count": 315,
     "metadata": {},
     "output_type": "execute_result"
    }
   ],
   "source": [
    "l"
   ]
  },
  {
   "cell_type": "code",
   "execution_count": 316,
   "id": "f0e76c61",
   "metadata": {},
   "outputs": [],
   "source": [
    "h = [0,0,1,0]\n"
   ]
  },
  {
   "cell_type": "code",
   "execution_count": 317,
   "id": "5ae14f9a",
   "metadata": {},
   "outputs": [
    {
     "name": "stdout",
     "output_type": "stream",
     "text": [
      "0\n",
      "0 0.0\n",
      "1\n",
      "0 7.0\n",
      "2\n",
      "1 6.0\n",
      "3\n",
      "0 5.0\n",
      "0\n",
      "0 0.0\n",
      "1\n",
      "0 0.0\n",
      "2\n",
      "1 7.0\n",
      "3\n",
      "0 6.0\n",
      "0\n",
      "0 0.0\n",
      "1\n",
      "0 0.0\n",
      "2\n",
      "1 0.0\n",
      "3\n",
      "0 7.0\n"
     ]
    }
   ],
   "source": [
    "tail2 = tail(l,h)"
   ]
  },
  {
   "cell_type": "code",
   "execution_count": 318,
   "id": "4e81e565",
   "metadata": {},
   "outputs": [
    {
     "data": {
      "text/plain": [
       "[6.0, 7.0, 0.0]"
      ]
     },
     "execution_count": 318,
     "metadata": {},
     "output_type": "execute_result"
    }
   ],
   "source": [
    "tail2"
   ]
  },
  {
   "cell_type": "code",
   "execution_count": null,
   "id": "fd8aed24",
   "metadata": {},
   "outputs": [],
   "source": []
  }
 ],
 "metadata": {
  "kernelspec": {
   "display_name": "Python 3 (ipykernel)",
   "language": "python",
   "name": "python3"
  },
  "language_info": {
   "codemirror_mode": {
    "name": "ipython",
    "version": 3
   },
   "file_extension": ".py",
   "mimetype": "text/x-python",
   "name": "python",
   "nbconvert_exporter": "python",
   "pygments_lexer": "ipython3",
   "version": "3.9.7"
  }
 },
 "nbformat": 4,
 "nbformat_minor": 5
}
