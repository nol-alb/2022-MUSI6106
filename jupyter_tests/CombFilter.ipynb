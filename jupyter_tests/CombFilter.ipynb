{
 "cells": [
  {
   "cell_type": "code",
   "execution_count": 4,
   "id": "d314bd07",
   "metadata": {},
   "outputs": [],
   "source": [
    "import librosa\n",
    "import numpy as np\n",
    "import matplotlib.pyplot as plt "
   ]
  },
  {
   "cell_type": "code",
   "execution_count": null,
   "id": "eb44a130",
   "metadata": {},
   "outputs": [],
   "source": []
  },
  {
   "cell_type": "code",
   "execution_count": 34,
   "id": "9b952feb",
   "metadata": {},
   "outputs": [],
   "source": [
    "def FIR(input_audio,output_audio,blocksize,delayInSec,gain,sample_freq):\n",
    "    delay_line = np.zeros(delayInSec*sample_freq)\n",
    "    mod_val = delay_line.size\n",
    "    passes = (int) (input_audio.size/blocksize)\n",
    "    for j in range(1,passes+1):\n",
    "        for i in range(blocksize):\n",
    "            output_audio[j*i] = input_audio[j*i] + gain*delay_line[j*i%mod_val]\n",
    "            delay_line[j*i%mod_val] = input_audio[j*i]\n",
    "    return output_audio\n",
    "    "
   ]
  },
  {
   "cell_type": "code",
   "execution_count": 40,
   "id": "8229d479",
   "metadata": {},
   "outputs": [],
   "source": [
    "def IIR(input_audio,output_audio,blocksize,delayInSec,gain,sample_freq):\n",
    "    delay_line = np.zeros(delayInSec*sample_freq)\n",
    "    mod_val = delay_line.size\n",
    "    passes = (int) (input_audio.size/blocksize)\n",
    "    for j in range(passes):\n",
    "        for i in range(blocksize):\n",
    "            print(output_audio)\n",
    "            output_audio[j*i] = input_audio[j*i] + gain*delay_line[i%mod_val]\n",
    "            delay_line[i%mod_val] = output_audio[j*i]\n",
    "    return output_audio"
   ]
  },
  {
   "cell_type": "code",
   "execution_count": 39,
   "id": "0b2142ba",
   "metadata": {},
   "outputs": [
    {
     "data": {
      "text/plain": [
       "[3.0, 0, 0, 0, 0]"
      ]
     },
     "execution_count": 39,
     "metadata": {},
     "output_type": "execute_result"
    }
   ],
   "source": [
    "# Testing\n",
    "\n",
    "x = np.array([1,2,3,4,5])\n",
    "sample_freq = 1\n",
    "delayInSec = 2\n",
    "gain =1\n",
    "y = [0,0,0,0,0]\n",
    "#FIR(x,y,x.size,delayInSec,gain,sample_freq)\n",
    "IIR(x,y,x.size,delayInSec,gain,sample_freq)\n"
   ]
  },
  {
   "cell_type": "code",
   "execution_count": null,
   "id": "8a220d47",
   "metadata": {},
   "outputs": [],
   "source": []
  },
  {
   "cell_type": "code",
   "execution_count": null,
   "id": "9b61fcc6",
   "metadata": {},
   "outputs": [],
   "source": []
  },
  {
   "cell_type": "code",
   "execution_count": null,
   "id": "133e494a",
   "metadata": {},
   "outputs": [],
   "source": []
  }
 ],
 "metadata": {
  "kernelspec": {
   "display_name": "Python 3 (ipykernel)",
   "language": "python",
   "name": "python3"
  },
  "language_info": {
   "codemirror_mode": {
    "name": "ipython",
    "version": 3
   },
   "file_extension": ".py",
   "mimetype": "text/x-python",
   "name": "python",
   "nbconvert_exporter": "python",
   "pygments_lexer": "ipython3",
   "version": "3.9.7"
  }
 },
 "nbformat": 4,
 "nbformat_minor": 5
}
